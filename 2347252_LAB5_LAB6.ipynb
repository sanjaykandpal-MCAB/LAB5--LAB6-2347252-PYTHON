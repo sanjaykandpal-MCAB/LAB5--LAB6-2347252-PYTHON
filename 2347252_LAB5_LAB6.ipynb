{
 "cells": [
  {
   "cell_type": "code",
   "execution_count": 21,
   "metadata": {},
   "outputs": [
    {
     "name": "stdout",
     "output_type": "stream",
     "text": [
      "The value of eval is  <built-in function eval>\n",
      "Zero Division Error\n"
     ]
    }
   ],
   "source": [
    "# Write a program to handle the exception of ZeroDivisionError.\n",
    "def temp(a):\n",
    "    b = 10\n",
    "    eval = b/a;\n",
    "print(\"The value of eval is \",eval)\n",
    "try:\n",
    "    temp(0)\n",
    "except ZeroDivisionError:\n",
    "    print(\"Zero Division Error\")\n",
    "else:\n",
    "    print(\"No error found in the function\")\n",
    "    \n"
   ]
  },
  {
   "cell_type": "code",
   "execution_count": 6,
   "metadata": {},
   "outputs": [
    {
     "name": "stdout",
     "output_type": "stream",
     "text": [
      "IndexError\n"
     ]
    }
   ],
   "source": [
    "# Write a program to handle the exception of IndexError\n",
    "def temp():\n",
    "    list = [0,1,2]\n",
    "    print(\"The value at 4th index\",list[4])\n",
    "try:\n",
    "    temp()\n",
    "except IndexError:\n",
    "    print(\"IndexError\")\n",
    "else:\n",
    "    print(\"No error found in the function\")"
   ]
  },
  {
   "cell_type": "code",
   "execution_count": 27,
   "metadata": {},
   "outputs": [
    {
     "name": "stdout",
     "output_type": "stream",
     "text": [
      "Found Phone Number ()\n"
     ]
    }
   ],
   "source": [
    "import re\n",
    "\n",
    "def findNumber(input_string):\n",
    "    # regex for valid phone number\n",
    "    pattern = '\\(?\\d{3}\\)?-?\\d{3}-?\\d{4}'\n",
    "    match = re.search(pattern,input_string) \n",
    "    if match:\n",
    "        return match.groups()\n",
    "    else:\n",
    "        return \"Valid Number Not Found\"\n",
    "\n",
    "input_string = input(\"Enter valid phone number in this format: (xxx)-xxx-xxxx\")\n",
    "phone_number = findNumber(input_string)\n",
    "print(\"Found Phone Number\",phone_number)\n",
    "\n",
    "\n",
    "\n",
    "\n"
   ]
  },
  {
   "cell_type": "code",
   "execution_count": 19,
   "metadata": {},
   "outputs": [
    {
     "name": "stdout",
     "output_type": "stream",
     "text": [
      "Strong Password\n"
     ]
    }
   ],
   "source": [
    "# Q2. Write a function that employs regular expressions to ensure the password given to the function is strong.\n",
    "# A strong password is defined as follows:\n",
    "# ·       at least eight characters long\n",
    "# ·       contains one uppercase character\n",
    "# ·       contains one lowercase character\n",
    "# ·       has at least one digit\n",
    "# ·       has at least one special character\n",
    "# [For instance: Christ@123]\n",
    "import re\n",
    "\n",
    "def isStrongPassword(password):\n",
    "    # Minimum eight characters, at least one upperCase, one lowerCase,one Digit and one special Character\n",
    "    pattern = r\"^(?=.*[A-Z])(?=.*[a-z])(?=.*\\d)(?=.*[@$!%*?&])[A-Za-z\\d@$!%*?&]{8,}$\"\n",
    "    match = re.match(pattern,password)\n",
    "\n",
    "    return bool(match)\n",
    "\n",
    "password = input(\"Enter Password\")\n",
    "\n",
    "if isStrongPassword(password):\n",
    "    print(\"Strong Password\")\n",
    "else:\n",
    "    print(\"Weak Password\")\n",
    "\n"
   ]
  }
 ],
 "metadata": {
  "kernelspec": {
   "display_name": "Python 3",
   "language": "python",
   "name": "python3"
  },
  "language_info": {
   "codemirror_mode": {
    "name": "ipython",
    "version": 3
   },
   "file_extension": ".py",
   "mimetype": "text/x-python",
   "name": "python",
   "nbconvert_exporter": "python",
   "pygments_lexer": "ipython3",
   "version": "3.11.5"
  },
  "orig_nbformat": 4
 },
 "nbformat": 4,
 "nbformat_minor": 2
}
